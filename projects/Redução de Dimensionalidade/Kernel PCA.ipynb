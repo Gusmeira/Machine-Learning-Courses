{
 "cells": [
  {
   "cell_type": "markdown",
   "metadata": {},
   "source": [
    "# **Kernel PCA**"
   ]
  },
  {
   "cell_type": "markdown",
   "metadata": {},
   "source": [
    "O PCA e o LDA são utilizados quando os dados são linearmente separáveis, já o **kernel PCA** é utilizado quando há problemas mais complexos, utilizando kernel trick para mapear os dados em uma dimensão maior."
   ]
  },
  {
   "cell_type": "code",
   "execution_count": 1,
   "metadata": {},
   "outputs": [],
   "source": [
    "import pandas as pd\n",
    "\n",
    "base_census = pd.read_csv('/Users/gustavomeira/Documents/Python/Estudo_ML/projects/Redução de Dimensionalidade/census.csv')\n",
    "X_census = base_census.iloc[:,0:14].values\n",
    "Y_census = base_census.iloc[:,14].values"
   ]
  },
  {
   "cell_type": "code",
   "execution_count": 2,
   "metadata": {},
   "outputs": [],
   "source": [
    "from sklearn.preprocessing import LabelEncoder\n",
    "\n",
    "label_encoder_workclass = LabelEncoder()\n",
    "label_encoder_education = LabelEncoder()\n",
    "label_encoder_marital = LabelEncoder()\n",
    "label_encoder_occupation = LabelEncoder()\n",
    "label_encoder_relationship = LabelEncoder()\n",
    "label_encoder_race = LabelEncoder()\n",
    "label_encoder_sex = LabelEncoder()\n",
    "label_encoder_country = LabelEncoder()\n",
    "\n",
    "X_census[:,1] = label_encoder_workclass.fit_transform(X_census[:,1])\n",
    "X_census[:,3] = label_encoder_education.fit_transform(X_census[:,3])\n",
    "X_census[:,5] = label_encoder_marital.fit_transform(X_census[:,5])\n",
    "X_census[:,6] = label_encoder_occupation.fit_transform(X_census[:,6])\n",
    "X_census[:,7] = label_encoder_relationship.fit_transform(X_census[:,7])\n",
    "X_census[:,8] = label_encoder_race.fit_transform(X_census[:,8])\n",
    "X_census[:,9] = label_encoder_sex.fit_transform(X_census[:,9])\n",
    "X_census[:,13] = label_encoder_country.fit_transform(X_census[:,13])"
   ]
  },
  {
   "cell_type": "code",
   "execution_count": 3,
   "metadata": {},
   "outputs": [],
   "source": [
    "from sklearn.preprocessing import StandardScaler\n",
    "\n",
    "scaler_census = StandardScaler()\n",
    "X_census = scaler_census.fit_transform(X_census)"
   ]
  },
  {
   "cell_type": "code",
   "execution_count": 4,
   "metadata": {},
   "outputs": [],
   "source": [
    "from sklearn.model_selection import train_test_split\n",
    "\n",
    "X_census_treinamento, X_census_teste, Y_census_treinamento, Y_census_teste = train_test_split(X_census, Y_census, test_size=0.15, random_state=0)"
   ]
  },
  {
   "cell_type": "markdown",
   "metadata": {},
   "source": [
    "## Kernel PCA"
   ]
  },
  {
   "cell_type": "code",
   "execution_count": 5,
   "metadata": {},
   "outputs": [],
   "source": [
    "from sklearn.decomposition import KernelPCA\n",
    "\n",
    "kpca = KernelPCA(n_components=8, kernel='rbf')\n",
    "X_census_treinamento_kpca = kpca.fit_transform(X_census_treinamento)\n",
    "X_census_teste_kpca = kpca.transform(X_census_teste)"
   ]
  },
  {
   "cell_type": "code",
   "execution_count": null,
   "metadata": {},
   "outputs": [],
   "source": [
    "display(X_census_treinamento_kpca.shape)"
   ]
  },
  {
   "cell_type": "code",
   "execution_count": null,
   "metadata": {},
   "outputs": [],
   "source": [
    "from sklearn.ensemble import RandomForestClassifier\n",
    "from sklearn.metrics import accuracy_score\n",
    "\n",
    "random_forest_census_kpca = RandomForestClassifier(n_estimators=40, criterion='entropy',random_state=0)\n",
    "random_forest_census_kpca.fit(X_census_treinamento_kpca, Y_census_treinamento)\n",
    "\n",
    "previsoes = random_forest_census_kpca.predict(X_census_teste_kpca)\n",
    "display(accuracy_score(Y_census_teste, previsoes))"
   ]
  }
 ],
 "metadata": {
  "kernelspec": {
   "display_name": "Python 3",
   "language": "python",
   "name": "python3"
  },
  "language_info": {
   "codemirror_mode": {
    "name": "ipython",
    "version": 3
   },
   "file_extension": ".py",
   "mimetype": "text/x-python",
   "name": "python",
   "nbconvert_exporter": "python",
   "pygments_lexer": "ipython3",
   "version": "3.12.0"
  }
 },
 "nbformat": 4,
 "nbformat_minor": 2
}
