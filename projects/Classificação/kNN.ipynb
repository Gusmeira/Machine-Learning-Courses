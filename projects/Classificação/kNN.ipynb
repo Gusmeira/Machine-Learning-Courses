{
 "cells": [
  {
   "cell_type": "markdown",
   "metadata": {},
   "source": [
    "# **K Nearest Neighbors**"
   ]
  },
  {
   "cell_type": "markdown",
   "metadata": {},
   "source": [
    "**Vantagens:**\n",
    "* Algorítimo simples e poderoso\n",
    "* Indicado quando o relacionamento das características é complexo\n",
    "\n",
    "**Desvantagens:**\n",
    "* Variáveis precisam estar na mesma escala\n",
    "* Lento para fazer as previsões\n",
    "\n",
    "**Característica:**\n",
    "* k pequeno = dados com ruídos ou outliers podem prejudicar\n",
    "* k grande = tendência a classificar a classe com mais elementos (overfitting)\n",
    "* k default = entre 3 e 5\n",
    "\n",
    "**Distâncias:**\n",
    "* Euclidiana\n",
    "* Coeficiente de Pearson\n",
    "* Tanimoto\n",
    "* City Block"
   ]
  },
  {
   "cell_type": "code",
   "execution_count": 8,
   "metadata": {},
   "outputs": [],
   "source": [
    "from sklearn.neighbors import KNeighborsClassifier\n",
    "from sklearn.metrics import accuracy_score, classification_report, confusion_matrix\n",
    "import pickle\n",
    "import pandas as pd\n",
    "import numpy as np\n",
    "import seaborn as sns\n",
    "import matplotlib.pyplot as plt\n",
    "import plotly.express as px"
   ]
  },
  {
   "cell_type": "markdown",
   "metadata": {},
   "source": [
    "### Base de Crédito"
   ]
  },
  {
   "cell_type": "code",
   "execution_count": 6,
   "metadata": {},
   "outputs": [],
   "source": [
    "with open('/Users/gustavomeira/Documents/Python/Estudo_ML/projects/Classificação/credit.pkl',mode='rb') as f:\n",
    "    [X_credit_treinamento, y_credit_treinamento, X_credit_teste, y_credit_teste] = pickle.load(f)\n",
    "    \n",
    "X_credit_treinamento = np.array(X_credit_treinamento)\n",
    "y_credit_treinamento = np.array(y_credit_treinamento)\n",
    "X_credit_teste = np.array(X_credit_teste)\n",
    "y_credit_teste = np.array(y_credit_teste)"
   ]
  },
  {
   "cell_type": "code",
   "execution_count": 7,
   "metadata": {},
   "outputs": [],
   "source": [
    "knn_credit = KNeighborsClassifier(n_neighbors=5, metric='minkowski', p=2)\n",
    "knn_credit.fit(X=X_credit_treinamento, y=y_credit_treinamento)\n",
    "\n",
    "previsoes = knn_credit.predict(X=X_credit_teste)"
   ]
  },
  {
   "cell_type": "code",
   "execution_count": 9,
   "metadata": {},
   "outputs": [
    {
     "name": "stdout",
     "output_type": "stream",
     "text": [
      "0.986 \n",
      "\n",
      "[[432   4]\n",
      " [  3  61]] \n",
      "\n",
      "              precision    recall  f1-score   support\n",
      "\n",
      "           0       0.99      0.99      0.99       436\n",
      "           1       0.94      0.95      0.95        64\n",
      "\n",
      "    accuracy                           0.99       500\n",
      "   macro avg       0.97      0.97      0.97       500\n",
      "weighted avg       0.99      0.99      0.99       500\n",
      "\n"
     ]
    }
   ],
   "source": [
    "print(accuracy_score(y_credit_teste,previsoes),'\\n')\n",
    "print(confusion_matrix(y_credit_teste,previsoes),'\\n')\n",
    "print(classification_report(y_credit_teste,previsoes))"
   ]
  },
  {
   "cell_type": "markdown",
   "metadata": {},
   "source": [
    "### Base do Censo"
   ]
  },
  {
   "cell_type": "code",
   "execution_count": 11,
   "metadata": {},
   "outputs": [],
   "source": [
    "with open('/Users/gustavomeira/Documents/Python/Estudo_ML/projects/Classificação/census.pkl',mode='rb') as f:\n",
    "    [X_census_treinamento, y_census_treinamento, X_census_teste, y_census_teste] = pickle.load(f)\n",
    "\n",
    "X_census_treinamento = np.array(X_census_treinamento)\n",
    "y_census_treinamento = np.array(y_census_treinamento)\n",
    "X_census_teste = np.array(X_census_teste)\n",
    "y_census_teste = np.array(y_census_teste)"
   ]
  },
  {
   "cell_type": "code",
   "execution_count": 13,
   "metadata": {},
   "outputs": [],
   "source": [
    "knn_census = KNeighborsClassifier(n_neighbors=5, metric='minkowski', p=2)\n",
    "knn_census.fit(X=X_census_treinamento, y=y_census_treinamento)\n",
    "\n",
    "previsoes = knn_census.predict(X=X_census_teste)"
   ]
  },
  {
   "cell_type": "code",
   "execution_count": 14,
   "metadata": {},
   "outputs": [
    {
     "name": "stdout",
     "output_type": "stream",
     "text": [
      "0.8223132036847492 \n",
      "\n",
      "[[3336  357]\n",
      " [ 511  681]] \n",
      "\n",
      "              precision    recall  f1-score   support\n",
      "\n",
      "       <=50K       0.87      0.90      0.88      3693\n",
      "        >50K       0.66      0.57      0.61      1192\n",
      "\n",
      "    accuracy                           0.82      4885\n",
      "   macro avg       0.76      0.74      0.75      4885\n",
      "weighted avg       0.82      0.82      0.82      4885\n",
      "\n"
     ]
    }
   ],
   "source": [
    "print(accuracy_score(y_census_teste,previsoes),'\\n')\n",
    "print(confusion_matrix(y_census_teste,previsoes),'\\n')\n",
    "print(classification_report(y_census_teste,previsoes))"
   ]
  }
 ],
 "metadata": {
  "kernelspec": {
   "display_name": "Python 3",
   "language": "python",
   "name": "python3"
  },
  "language_info": {
   "codemirror_mode": {
    "name": "ipython",
    "version": 3
   },
   "file_extension": ".py",
   "mimetype": "text/x-python",
   "name": "python",
   "nbconvert_exporter": "python",
   "pygments_lexer": "ipython3",
   "version": "3.12.0"
  }
 },
 "nbformat": 4,
 "nbformat_minor": 2
}
