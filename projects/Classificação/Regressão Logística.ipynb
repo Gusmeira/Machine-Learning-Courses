{
 "cells": [
  {
   "cell_type": "markdown",
   "metadata": {},
   "source": [
    "# **Regressão Logística**"
   ]
  },
  {
   "cell_type": "code",
   "execution_count": 15,
   "metadata": {},
   "outputs": [],
   "source": [
    "from sklearn.metrics import accuracy_score, classification_report, confusion_matrix\n",
    "import pickle\n",
    "import pandas as pd\n",
    "import numpy as np"
   ]
  },
  {
   "cell_type": "markdown",
   "metadata": {},
   "source": [
    "### Base de Risco de Crédito"
   ]
  },
  {
   "cell_type": "code",
   "execution_count": 10,
   "metadata": {},
   "outputs": [],
   "source": [
    "with open('risco_credito.pkl',mode='rb') as f:\n",
    "    [X_risco_credito, y_risco_credito] = pickle.load(f)"
   ]
  },
  {
   "cell_type": "code",
   "execution_count": 11,
   "metadata": {},
   "outputs": [],
   "source": [
    "X_risco_credito = np.delete(X_risco_credito, [2,7,11], axis=0)\n",
    "y_risco_credito = np.delete(y_risco_credito, [2,7,11], axis=0)"
   ]
  },
  {
   "cell_type": "code",
   "execution_count": 13,
   "metadata": {},
   "outputs": [
    {
     "data": {
      "text/plain": [
       "array([[-0.76706797,  0.23921064, -0.47989768,  1.12196145]])"
      ]
     },
     "metadata": {},
     "output_type": "display_data"
    },
    {
     "data": {
      "text/plain": [
       "array([-0.80855152])"
      ]
     },
     "metadata": {},
     "output_type": "display_data"
    }
   ],
   "source": [
    "from sklearn.linear_model import LogisticRegression\n",
    "\n",
    "logistic_risco_credito = LogisticRegression(random_state=1)\n",
    "logistic_risco_credito.fit(X=X_risco_credito, y=y_risco_credito)\n",
    "\n",
    "display(logistic_risco_credito.coef_)\n",
    "display(logistic_risco_credito.intercept_)"
   ]
  },
  {
   "cell_type": "code",
   "execution_count": 14,
   "metadata": {},
   "outputs": [
    {
     "data": {
      "text/plain": [
       "array(['baixo', 'alto'], dtype=object)"
      ]
     },
     "execution_count": 14,
     "metadata": {},
     "output_type": "execute_result"
    }
   ],
   "source": [
    "previsoes = logistic_risco_credito.predict([[0,0,1,2],[2,0,0,0]])\n",
    "previsoes"
   ]
  },
  {
   "cell_type": "markdown",
   "metadata": {},
   "source": [
    "### Base de Crédito"
   ]
  },
  {
   "cell_type": "code",
   "execution_count": 6,
   "metadata": {},
   "outputs": [],
   "source": [
    "with open('/Users/gustavomeira/Documents/Python/Estudo_ML/projects/Classificação/credit.pkl',mode='rb') as f:\n",
    "    [X_credit_treinamento, y_credit_treinamento, X_credit_teste, y_credit_teste] = pickle.load(f)\n",
    "    \n",
    "X_credit_treinamento = np.array(X_credit_treinamento)\n",
    "y_credit_treinamento = np.array(y_credit_treinamento)\n",
    "X_credit_teste = np.array(X_credit_teste)\n",
    "y_credit_teste = np.array(y_credit_teste)"
   ]
  },
  {
   "cell_type": "code",
   "execution_count": 16,
   "metadata": {},
   "outputs": [],
   "source": [
    "logistic_credit = LogisticRegression(random_state=1)\n",
    "logistic_credit.fit(X=X_credit_treinamento, y=y_credit_treinamento)\n",
    "\n",
    "previsoes = logistic_credit.predict(X=X_credit_teste)"
   ]
  },
  {
   "cell_type": "code",
   "execution_count": 17,
   "metadata": {},
   "outputs": [
    {
     "name": "stdout",
     "output_type": "stream",
     "text": [
      "0.946 \n",
      "\n",
      "[[423  13]\n",
      " [ 14  50]] \n",
      "\n",
      "              precision    recall  f1-score   support\n",
      "\n",
      "           0       0.97      0.97      0.97       436\n",
      "           1       0.79      0.78      0.79        64\n",
      "\n",
      "    accuracy                           0.95       500\n",
      "   macro avg       0.88      0.88      0.88       500\n",
      "weighted avg       0.95      0.95      0.95       500\n",
      "\n"
     ]
    }
   ],
   "source": [
    "print(accuracy_score(y_credit_teste,previsoes),'\\n')\n",
    "print(confusion_matrix(y_credit_teste,previsoes),'\\n')\n",
    "print(classification_report(y_credit_teste,previsoes))"
   ]
  },
  {
   "cell_type": "markdown",
   "metadata": {},
   "source": [
    "### Base do Censo"
   ]
  },
  {
   "cell_type": "code",
   "execution_count": 18,
   "metadata": {},
   "outputs": [],
   "source": [
    "with open('/Users/gustavomeira/Documents/Python/Estudo_ML/projects/Classificação/census.pkl',mode='rb') as f:\n",
    "    [X_census_treinamento, y_census_treinamento, X_census_teste, y_census_teste] = pickle.load(f)\n",
    "\n",
    "X_census_treinamento = np.array(X_census_treinamento)\n",
    "y_census_treinamento = np.array(y_census_treinamento)\n",
    "X_census_teste = np.array(X_census_teste)\n",
    "y_census_teste = np.array(y_census_teste)"
   ]
  },
  {
   "cell_type": "code",
   "execution_count": 19,
   "metadata": {},
   "outputs": [],
   "source": [
    "logistic_census = LogisticRegression(random_state=1)\n",
    "logistic_census.fit(X=X_census_treinamento, y=y_census_treinamento)\n",
    "\n",
    "previsoes = logistic_census.predict(X=X_census_teste)"
   ]
  },
  {
   "cell_type": "code",
   "execution_count": 20,
   "metadata": {},
   "outputs": [
    {
     "name": "stdout",
     "output_type": "stream",
     "text": [
      "0.8497441146366428 \n",
      "\n",
      "[[3424  269]\n",
      " [ 465  727]] \n",
      "\n",
      "              precision    recall  f1-score   support\n",
      "\n",
      "       <=50K       0.88      0.93      0.90      3693\n",
      "        >50K       0.73      0.61      0.66      1192\n",
      "\n",
      "    accuracy                           0.85      4885\n",
      "   macro avg       0.81      0.77      0.78      4885\n",
      "weighted avg       0.84      0.85      0.84      4885\n",
      "\n"
     ]
    }
   ],
   "source": [
    "print(accuracy_score(y_census_teste,previsoes),'\\n')\n",
    "print(confusion_matrix(y_census_teste,previsoes),'\\n')\n",
    "print(classification_report(y_census_teste,previsoes))"
   ]
  }
 ],
 "metadata": {
  "kernelspec": {
   "display_name": "Python 3",
   "language": "python",
   "name": "python3"
  },
  "language_info": {
   "codemirror_mode": {
    "name": "ipython",
    "version": 3
   },
   "file_extension": ".py",
   "mimetype": "text/x-python",
   "name": "python",
   "nbconvert_exporter": "python",
   "pygments_lexer": "ipython3",
   "version": "3.12.0"
  }
 },
 "nbformat": 4,
 "nbformat_minor": 2
}
