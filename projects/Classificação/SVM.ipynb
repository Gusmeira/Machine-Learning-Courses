{
 "cells": [
  {
   "cell_type": "markdown",
   "metadata": {},
   "source": [
    "# **Support Vector Machines**"
   ]
  },
  {
   "cell_type": "markdown",
   "metadata": {},
   "source": [
    "**Vantagens:**\n",
    "* Geralmente fornece resultados melhores que os outros algorítmos\n",
    "* É bom para resultados bons em problemas mais complexos\n",
    "* Não é muito influenciado por ruídos nos dados\n",
    "* É utilizado em classificaçõa e regressão\n",
    "* Aprende conceitos não presentes nos dados originais\n",
    "* Mais fácil de se utilizar do que redes neurais\n",
    "\n",
    "**Desvantagens:**\n",
    "* Configuração de hiperparâmetros como o custo e o Kernel\n",
    "* Pode ser bastante lento\n",
    "* É um método do tipo black box (não visualizável)\n",
    "\n",
    "**Metodologia:**\n",
    "* Consiste no aprendizado de hiperplanos de separação com margem máxima"
   ]
  },
  {
   "cell_type": "code",
   "execution_count": 1,
   "metadata": {},
   "outputs": [],
   "source": [
    "from sklearn.svm import SVC\n",
    "from sklearn.metrics import accuracy_score, classification_report, confusion_matrix\n",
    "import pickle\n",
    "import pandas as pd\n",
    "import numpy as np\n",
    "import matplotlib.pyplot as plt"
   ]
  },
  {
   "cell_type": "markdown",
   "metadata": {},
   "source": [
    "### Base de Crédito"
   ]
  },
  {
   "cell_type": "code",
   "execution_count": 2,
   "metadata": {},
   "outputs": [],
   "source": [
    "with open('/Users/gustavomeira/Documents/Python/Estudo_ML/projects/Classificação/credit.pkl',mode='rb') as f:\n",
    "    [X_credit_treinamento, y_credit_treinamento, X_credit_teste, y_credit_teste] = pickle.load(f)\n",
    "    \n",
    "X_credit_treinamento = np.array(X_credit_treinamento)\n",
    "y_credit_treinamento = np.array(y_credit_treinamento)\n",
    "X_credit_teste = np.array(X_credit_teste)\n",
    "y_credit_teste = np.array(y_credit_teste)"
   ]
  },
  {
   "cell_type": "code",
   "execution_count": 9,
   "metadata": {},
   "outputs": [],
   "source": [
    "svm_credit = SVC(kernel='rbf', random_state=1, C=2.0)\n",
    "svm_credit.fit(X=X_credit_treinamento, y=y_credit_treinamento)\n",
    "\n",
    "previsoes = svm_credit.predict(X=X_credit_teste)"
   ]
  },
  {
   "cell_type": "code",
   "execution_count": 10,
   "metadata": {},
   "outputs": [
    {
     "name": "stdout",
     "output_type": "stream",
     "text": [
      "0.988 \n",
      "\n",
      "[[434   2]\n",
      " [  4  60]] \n",
      "\n",
      "              precision    recall  f1-score   support\n",
      "\n",
      "           0       0.99      1.00      0.99       436\n",
      "           1       0.97      0.94      0.95        64\n",
      "\n",
      "    accuracy                           0.99       500\n",
      "   macro avg       0.98      0.97      0.97       500\n",
      "weighted avg       0.99      0.99      0.99       500\n",
      "\n"
     ]
    }
   ],
   "source": [
    "print(accuracy_score(y_credit_teste,previsoes),'\\n')\n",
    "print(confusion_matrix(y_credit_teste,previsoes),'\\n')\n",
    "print(classification_report(y_credit_teste,previsoes))"
   ]
  },
  {
   "cell_type": "markdown",
   "metadata": {},
   "source": [
    "### Base do Censo"
   ]
  },
  {
   "cell_type": "code",
   "execution_count": 12,
   "metadata": {},
   "outputs": [],
   "source": [
    "with open('/Users/gustavomeira/Documents/Python/Estudo_ML/projects/Classificação/census.pkl',mode='rb') as f:\n",
    "    [X_census_treinamento, y_census_treinamento, X_census_teste, y_census_teste] = pickle.load(f)\n",
    "\n",
    "X_census_treinamento = np.array(X_census_treinamento)\n",
    "y_census_treinamento = np.array(y_census_treinamento)\n",
    "X_census_teste = np.array(X_census_teste)\n",
    "y_census_teste = np.array(y_census_teste)"
   ]
  },
  {
   "cell_type": "code",
   "execution_count": 13,
   "metadata": {},
   "outputs": [],
   "source": [
    "svm_census = SVC(kernel='linear', random_state=1)\n",
    "svm_census.fit(X=X_census_treinamento, y=y_census_treinamento)\n",
    "\n",
    "previsoes = svm_census.predict(X=X_census_teste)"
   ]
  },
  {
   "cell_type": "code",
   "execution_count": 14,
   "metadata": {},
   "outputs": [
    {
     "name": "stdout",
     "output_type": "stream",
     "text": [
      "0.8507676560900717 \n",
      "\n",
      "[[3459  234]\n",
      " [ 495  697]] \n",
      "\n",
      "              precision    recall  f1-score   support\n",
      "\n",
      "       <=50K       0.87      0.94      0.90      3693\n",
      "        >50K       0.75      0.58      0.66      1192\n",
      "\n",
      "    accuracy                           0.85      4885\n",
      "   macro avg       0.81      0.76      0.78      4885\n",
      "weighted avg       0.84      0.85      0.84      4885\n",
      "\n"
     ]
    }
   ],
   "source": [
    "print(accuracy_score(y_census_teste,previsoes),'\\n')\n",
    "print(confusion_matrix(y_census_teste,previsoes),'\\n')\n",
    "print(classification_report(y_census_teste,previsoes))"
   ]
  }
 ],
 "metadata": {
  "kernelspec": {
   "display_name": "Python 3",
   "language": "python",
   "name": "python3"
  },
  "language_info": {
   "codemirror_mode": {
    "name": "ipython",
    "version": 3
   },
   "file_extension": ".py",
   "mimetype": "text/x-python",
   "name": "python",
   "nbconvert_exporter": "python",
   "pygments_lexer": "ipython3",
   "version": "3.12.0"
  }
 },
 "nbformat": 4,
 "nbformat_minor": 2
}
