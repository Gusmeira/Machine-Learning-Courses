{
 "cells": [
  {
   "cell_type": "markdown",
   "metadata": {},
   "source": [
    "# **Carregamento do Classificador Melhor Avaliado**"
   ]
  },
  {
   "cell_type": "code",
   "execution_count": 29,
   "metadata": {},
   "outputs": [],
   "source": [
    "import pickle\n",
    "import numpy as np"
   ]
  },
  {
   "cell_type": "code",
   "execution_count": 30,
   "metadata": {},
   "outputs": [],
   "source": [
    "arvore = pickle.load(open('/Users/gustavomeira/Documents/Python/Estudo_ML/projects/Classificação/classificador_arvore.sav', 'rb'))\n",
    "svm = pickle.load(open('/Users/gustavomeira/Documents/Python/Estudo_ML/projects/Classificação/classificador_svm.sav', 'rb'))"
   ]
  },
  {
   "cell_type": "code",
   "execution_count": 31,
   "metadata": {},
   "outputs": [
    {
     "name": "stdout",
     "output_type": "stream",
     "text": [
      "(3,)\n",
      "(1, 3)\n",
      "0\n"
     ]
    }
   ],
   "source": [
    "novo_registro = np.array([1.375, 2.506, 2.109])\n",
    "print(novo_registro.shape)\n",
    "novo_registro = novo_registro.reshape(1,-1)\n",
    "print(novo_registro.shape)\n",
    "\n",
    "response_arvore = arvore.predict(novo_registro)\n",
    "print(response_arvore[0])"
   ]
  },
  {
   "cell_type": "code",
   "execution_count": 32,
   "metadata": {},
   "outputs": [
    {
     "name": "stdout",
     "output_type": "stream",
     "text": [
      "(3,)\n",
      "(1, 3)\n",
      "0\n"
     ]
    }
   ],
   "source": [
    "novo_registro = np.array([-1.375, 0.506, 0.109])\n",
    "print(novo_registro.shape)\n",
    "novo_registro = novo_registro.reshape(1,-1)\n",
    "print(novo_registro.shape)\n",
    "\n",
    "response_svm = svm.predict(novo_registro)\n",
    "print(response_svm[0])"
   ]
  },
  {
   "cell_type": "markdown",
   "metadata": {},
   "source": [
    "O array([0]) significa que a pessoa irá pagar o impréstimo!"
   ]
  },
  {
   "cell_type": "markdown",
   "metadata": {},
   "source": [
    "# **Combinaçõa de Classificadores**"
   ]
  },
  {
   "cell_type": "markdown",
   "metadata": {},
   "source": [
    "Essa é uma forma de combinarmos mais de um classificador que apresentaram resultados condizentes, de forma a obtermos uma qualidade melhor ainda de previsão. Os tipos são:\n",
    "* Unanimidade -> todos os classificadores concordam\n",
    "* Maioria Simples -> 50%+1\n",
    "* Pluralidade -> a maioria dos votos ganha (caso haja mais de duas classificações envolvidas)"
   ]
  },
  {
   "cell_type": "code",
   "execution_count": 33,
   "metadata": {},
   "outputs": [
    {
     "name": "stdout",
     "output_type": "stream",
     "text": [
      "Cliente pagará o empréstimo\n"
     ]
    }
   ],
   "source": [
    "paga = 0\n",
    "nao_paga = 0\n",
    "\n",
    "if response_arvore[0] == 1:\n",
    "    nao_paga += 1\n",
    "else:\n",
    "    paga += 1\n",
    "\n",
    "if response_svm[0] == 1:\n",
    "    nao_paga += 1\n",
    "else:\n",
    "    paga += 1\n",
    "\n",
    "if paga > nao_paga:\n",
    "    print('Cliente pagará o empréstimo')\n",
    "elif paga == nao_paga:\n",
    "    print('Empate')\n",
    "else:\n",
    "    print('Cliente não pagará o empréstimo')"
   ]
  },
  {
   "cell_type": "markdown",
   "metadata": {},
   "source": [
    "# Rejeição de Classificadores"
   ]
  },
  {
   "cell_type": "markdown",
   "metadata": {},
   "source": [
    "Em aplicações reais, o classificador aponta uma única hipótese ou rejeita o resultado se não tiver certeza o suficiente (ex.: 90% de certeza dele ser da @Classe1). Outra possibilidade é o classificador possuir mais de uma hipótese (ex.: 40% de certeza dele ser da @Classe1 e 38% de ser da @Classe2)."
   ]
  },
  {
   "cell_type": "code",
   "execution_count": 34,
   "metadata": {},
   "outputs": [
    {
     "name": "stdout",
     "output_type": "stream",
     "text": [
      "[[1. 0.]]\n",
      "1.0\n"
     ]
    }
   ],
   "source": [
    "probabilidade_arvore = arvore.predict_proba(novo_registro)\n",
    "print(probabilidade_arvore)\n",
    "\n",
    "confianca_arvore = probabilidade_arvore.max()\n",
    "print(confianca_arvore)"
   ]
  },
  {
   "cell_type": "code",
   "execution_count": 35,
   "metadata": {},
   "outputs": [
    {
     "name": "stdout",
     "output_type": "stream",
     "text": [
      "[[9.99997259e-01 2.74069804e-06]]\n",
      "0.9999972593019587\n"
     ]
    }
   ],
   "source": [
    "probabilidade_svm = svm.predict_proba(novo_registro)\n",
    "print(probabilidade_svm)\n",
    "\n",
    "confianca_svm = probabilidade_svm.max()\n",
    "print(confianca_svm)"
   ]
  },
  {
   "cell_type": "code",
   "execution_count": 38,
   "metadata": {},
   "outputs": [
    {
     "name": "stdout",
     "output_type": "stream",
     "text": [
      "Cliente pagará o empréstimo, baseado em 1 algoritmos\n"
     ]
    }
   ],
   "source": [
    "paga = 0\n",
    "nao_paga = 0\n",
    "confianca_minima = 0.999999 # Confiança maior do qeu a do SVM\n",
    "algoritmos = 0\n",
    "\n",
    "if confianca_arvore >= confianca_minima:\n",
    "    algoritmos += 1\n",
    "    if response_arvore[0] == 1:\n",
    "        nao_paga += 1\n",
    "    else:\n",
    "        paga += 1\n",
    "\n",
    "if confianca_svm >= confianca_minima:\n",
    "    algoritmos += 1\n",
    "    if response_svm[0] == 1:\n",
    "        nao_paga += 1\n",
    "    else:\n",
    "        paga += 1\n",
    "\n",
    "if paga > nao_paga:\n",
    "    print(f'Cliente pagará o empréstimo, baseado em {algoritmos} algoritmos')\n",
    "elif paga == nao_paga:\n",
    "    print('Empate')\n",
    "else:\n",
    "    print(f'Cliente não pagará o empréstimo, baseado em {algoritmos} algoritmos')"
   ]
  }
 ],
 "metadata": {
  "kernelspec": {
   "display_name": "Python 3",
   "language": "python",
   "name": "python3"
  },
  "language_info": {
   "codemirror_mode": {
    "name": "ipython",
    "version": 3
   },
   "file_extension": ".py",
   "mimetype": "text/x-python",
   "name": "python",
   "nbconvert_exporter": "python",
   "pygments_lexer": "ipython3",
   "version": "3.12.0"
  }
 },
 "nbformat": 4,
 "nbformat_minor": 2
}
