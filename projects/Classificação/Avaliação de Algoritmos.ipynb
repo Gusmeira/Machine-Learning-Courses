{
 "cells": [
  {
   "cell_type": "markdown",
   "metadata": {},
   "source": [
    "# **Avaliação de Algoritmos**"
   ]
  },
  {
   "cell_type": "markdown",
   "metadata": {},
   "source": [
    "## Matriz de Confusão"
   ]
  },
  {
   "cell_type": "markdown",
   "metadata": {},
   "source": [
    "Uma ***matriza de confusão*** é dada por:\n",
    "\n",
    "$$\\begin{pmatrix}\n",
    "Correct & Incorrect & Incorrect\\\\ \n",
    "Incorrect & Correct & Incorrect\\\\\n",
    "Incorrect & Incorrect & Correct\\\\\n",
    "\\end{pmatrix}$$\n",
    "\n",
    "Para saber se um sistema de classificação é bom ou não, podemos fazer algumas considerações:\n",
    "1. Contexto / Cenário -> se o objetivo principal é classificar corretamente a classe A e ela tem um percentual de acerto grande, por mais que as outras classes não sejam tão boas, pode ser considerado um bom modelo;\n",
    "2. Número de Classes -> verificar se o número de classes é previsto com maior chances de acerto por um algoritmo de ML ou se um sistema randômico seria mais útil;\n",
    "3. Regras -> Avaliar o a classe com maior quantidade de acertos.\n",
    "<br>\n",
    "Uma matriz de confusão comum é dada por:\n",
    "$$\\begin{pmatrix}\n",
    "True\\,Positive & False\\,Negative\\\\ \n",
    "False\\,Positive & True\\,Negative\\\\\n",
    "\\end{pmatrix}$$\n",
    "$$True=T, \\,False=F, \\,Positive=P, \\,Negative=N$$"
   ]
  },
  {
   "cell_type": "markdown",
   "metadata": {},
   "source": [
    "## Precision and Recall"
   ]
  },
  {
   "cell_type": "markdown",
   "metadata": {},
   "source": [
    "A ***Precision*** considera o quanto um modelo previu SIM e o quanto ele estava certo (avalia uma linha):\n",
    "$$\\frac{TP}{TP+FP}$$\n",
    "O ***Recall*** considera quando um modelo é SIM, o quanto ele classificou corretamente (avalia uma coluna):\n",
    "$$\\frac{TP}{TP+FN}$$"
   ]
  },
  {
   "cell_type": "markdown",
   "metadata": {},
   "source": [
    "## Validação Cruzada"
   ]
  },
  {
   "cell_type": "markdown",
   "metadata": {},
   "source": [
    "Quando fazemos a divisão entre grupo de treinamento e grupo de teste, pode ser que o grupo de teste contenha informações úteis para treinamento. No ***K-Fold Cross Validatio*** separamos $K$ grupos de treinamento e teste diferentes nos nossos conjuntos de dados para averiguar a avaliação de algoritmos de forma eficiente e mais acadêmica. O acerto do algoritmo é a média dos folds usados. O número preferido é $K=10$."
   ]
  },
  {
   "cell_type": "markdown",
   "metadata": {},
   "source": [
    "## Fitting"
   ]
  },
  {
   "cell_type": "markdown",
   "metadata": {},
   "source": [
    "Um modelo de ML pode apresentar um underfitting (ajuste inadequado ao modelo pois generaliza demais e perde o poder de correlação, aprendendo muito pouco com os dados) ou um overfitting (o modelo torna-se específico demais e o algorítmo fica \"viciado\" nos dados e não está adaptado a desvios menores, memorizando os dados, e não de fato aprendendo)."
   ]
  },
  {
   "cell_type": "markdown",
   "metadata": {},
   "source": [
    "## Tuning dos Parâmetros"
   ]
  },
  {
   "cell_type": "code",
   "execution_count": 7,
   "metadata": {},
   "outputs": [],
   "source": [
    "from sklearn.model_selection import GridSearchCV\n",
    "from sklearn.model_selection import cross_val_score, KFold\n",
    "\n",
    "from sklearn.tree import DecisionTreeClassifier\n",
    "from sklearn.ensemble import RandomForestClassifier\n",
    "from sklearn.neighbors import KNeighborsClassifier\n",
    "from sklearn.linear_model import LogisticRegression\n",
    "from sklearn.svm import SVC\n",
    "from sklearn.neural_network import MLPClassifier\n",
    "\n",
    "from sklearn.metrics import accuracy_score, classification_report, confusion_matrix\n",
    "import pickle\n",
    "import numpy as np\n",
    "import pandas as pd"
   ]
  },
  {
   "cell_type": "markdown",
   "metadata": {},
   "source": [
    "### Base de Crédito"
   ]
  },
  {
   "cell_type": "code",
   "execution_count": 8,
   "metadata": {},
   "outputs": [],
   "source": [
    "with open('/Users/gustavomeira/Documents/Python/Estudo_ML/projects/Classificação/credit.pkl',mode='rb') as f:\n",
    "    [X_credit_treinamento, y_credit_treinamento, X_credit_teste, y_credit_teste] = pickle.load(f)\n",
    "    \n",
    "X_credit_treinamento = np.array(X_credit_treinamento)\n",
    "y_credit_treinamento = np.array(y_credit_treinamento)\n",
    "X_credit_teste = np.array(X_credit_teste)\n",
    "y_credit_teste = np.array(y_credit_teste)"
   ]
  },
  {
   "cell_type": "code",
   "execution_count": 9,
   "metadata": {},
   "outputs": [
    {
     "name": "stdout",
     "output_type": "stream",
     "text": [
      "(2000, 3) (2000,)\n"
     ]
    }
   ],
   "source": [
    "X_credit = np.concatenate((X_credit_treinamento,X_credit_teste), axis=0)\n",
    "y_credit = np.concatenate((y_credit_treinamento,y_credit_teste), axis=0)\n",
    "print(X_credit.shape, y_credit.shape)"
   ]
  },
  {
   "cell_type": "markdown",
   "metadata": {},
   "source": [
    "#### Árvore de Decisão"
   ]
  },
  {
   "cell_type": "code",
   "execution_count": 4,
   "metadata": {},
   "outputs": [
    {
     "name": "stdout",
     "output_type": "stream",
     "text": [
      "{'criterion': 'entropy', 'min_samples_leaf': 1, 'min_samples_split': 5, 'splitter': 'best'} 0.983\n"
     ]
    }
   ],
   "source": [
    "parameters = {'criterion':['gini','entropy'],\n",
    "              'splitter':['best','random'],\n",
    "              'min_samples_split':[2,5,10],\n",
    "              'min_samples_leaf':[1,5,10]}\n",
    "\n",
    "grid_search = GridSearchCV(estimator=DecisionTreeClassifier(), param_grid=parameters)\n",
    "grid_search.fit(X_credit, y_credit)\n",
    "best_parameters = grid_search.best_params_\n",
    "best_result = grid_search.best_score_\n",
    "print(best_parameters, best_result)"
   ]
  },
  {
   "cell_type": "markdown",
   "metadata": {},
   "source": [
    "#### Random Forest"
   ]
  },
  {
   "cell_type": "code",
   "execution_count": 15,
   "metadata": {},
   "outputs": [
    {
     "name": "stdout",
     "output_type": "stream",
     "text": [
      "{'criterion': 'gini', 'min_samples_leaf': 1, 'min_samples_split': 2, 'n_estimators': 150} 0.9870000000000001\n"
     ]
    }
   ],
   "source": [
    "parameters = {'criterion':['gini','entropy'],\n",
    "              'n_estimators':[10,40,100,150],\n",
    "              'min_samples_split':[2,5,10],\n",
    "              'min_samples_leaf':[1,5,10]}\n",
    "\n",
    "grid_search = GridSearchCV(estimator=RandomForestClassifier(), param_grid=parameters)\n",
    "grid_search.fit(X_credit, y_credit)\n",
    "best_parameters = grid_search.best_params_\n",
    "best_result = grid_search.best_score_\n",
    "print(best_parameters, best_result)"
   ]
  },
  {
   "cell_type": "markdown",
   "metadata": {},
   "source": [
    "#### KNN"
   ]
  },
  {
   "cell_type": "code",
   "execution_count": null,
   "metadata": {},
   "outputs": [
    {
     "name": "stdout",
     "output_type": "stream",
     "text": [
      "{'n_neighbors': 20, 'p': 1} 0.9800000000000001\n"
     ]
    }
   ],
   "source": [
    "parameters = {'n_neighbors':[5,10,20],\n",
    "              'p':[1,2]}\n",
    "\n",
    "grid_search = GridSearchCV(estimator=KNeighborsClassifier(), param_grid=parameters)\n",
    "grid_search.fit(X_credit, y_credit)\n",
    "best_parameters = grid_search.best_params_\n",
    "best_result = grid_search.best_score_\n",
    "print(best_parameters, best_result)"
   ]
  },
  {
   "cell_type": "markdown",
   "metadata": {},
   "source": [
    "#### Regressão Logística "
   ]
  },
  {
   "cell_type": "code",
   "execution_count": null,
   "metadata": {},
   "outputs": [
    {
     "name": "stdout",
     "output_type": "stream",
     "text": [
      "{'C': 1.0, 'solver': 'lbfgs', 'tol': 0.0001} 0.9484999999999999\n"
     ]
    }
   ],
   "source": [
    "parameters = {'tol':[0.0001,0.00001,0.000001],\n",
    "              'C':[1.0,1.5,2.0],\n",
    "              'solver':['lbfgs','sag','saga']}\n",
    "\n",
    "grid_search = GridSearchCV(estimator=LogisticRegression(), param_grid=parameters)\n",
    "grid_search.fit(X_credit, y_credit)\n",
    "best_parameters = grid_search.best_params_\n",
    "best_result = grid_search.best_score_\n",
    "print(best_parameters, best_result)"
   ]
  },
  {
   "cell_type": "markdown",
   "metadata": {},
   "source": [
    "#### SVM"
   ]
  },
  {
   "cell_type": "code",
   "execution_count": null,
   "metadata": {},
   "outputs": [
    {
     "name": "stdout",
     "output_type": "stream",
     "text": [
      "{'C': 1.5, 'kernel': 'rbf', 'tol': 0.0001} 0.9829999999999999\n"
     ]
    }
   ],
   "source": [
    "parameters = {'tol':[0.0001,0.00001,0.000001],\n",
    "              'C':[1.0,1.5,2.0],\n",
    "              'kernel':['rbf','linear','poly','sigmoid']}\n",
    "\n",
    "grid_search = GridSearchCV(estimator=SVC(), param_grid=parameters)\n",
    "grid_search.fit(X_credit, y_credit)\n",
    "best_parameters = grid_search.best_params_\n",
    "best_result = grid_search.best_score_\n",
    "print(best_parameters, best_result)"
   ]
  },
  {
   "cell_type": "markdown",
   "metadata": {},
   "source": [
    "#### Redes Neurais"
   ]
  },
  {
   "cell_type": "code",
   "execution_count": 51,
   "metadata": {},
   "outputs": [],
   "source": [
    "# parameters = {'activation':['relu','logistic','tahn'],\n",
    "#               'solver':['adam','sgd'],\n",
    "#               'batch_size':[10,56]}\n",
    "\n",
    "# grid_search = GridSearchCV(estimator=MLPClassifier(), param_grid=parameters)\n",
    "# grid_search.fit(X_credit, y_credit)\n",
    "# best_parameters = grid_search.best_params_\n",
    "# best_result = grid_search.best_score_"
   ]
  },
  {
   "cell_type": "code",
   "execution_count": 50,
   "metadata": {},
   "outputs": [],
   "source": [
    "# print(best_parameters, best_result)"
   ]
  },
  {
   "cell_type": "markdown",
   "metadata": {},
   "source": [
    "#### Validação Cruzada"
   ]
  },
  {
   "cell_type": "code",
   "execution_count": 7,
   "metadata": {},
   "outputs": [],
   "source": [
    "resultados_arvore = []\n",
    "resultados_random_forest = []\n",
    "resultados_knn = []\n",
    "resultados_svm = []\n",
    "\n",
    "for i in range(30):\n",
    "    kfold = KFold(n_splits=10, shuffle=True, random_state=1)\n",
    "\n",
    "    arvore = DecisionTreeClassifier(criterion='entropy', min_samples_leaf=1, min_samples_split=5, splitter='best')\n",
    "    scores = cross_val_score(arvore, X_credit, y_credit, cv=kfold)\n",
    "    # print(scores)\n",
    "    resultados_arvore.append(scores.mean())\n",
    "\n",
    "    random_forest = RandomForestClassifier(criterion='entropy', min_samples_leaf=1, min_samples_split=2, n_estimators=10)\n",
    "    scores = cross_val_score(random_forest, X_credit, y_credit, cv=kfold)\n",
    "    resultados_random_forest.append(scores.mean())\n",
    "\n",
    "    knn = KNeighborsClassifier(n_neighbors=20, p=1)\n",
    "    scores = cross_val_score(random_forest, X_credit, y_credit, cv=kfold)\n",
    "    resultados_knn.append(scores.mean())\n",
    "\n",
    "    svm = SVC(C=1.5, kernel='rbf', tol=0.0001)\n",
    "    scores = cross_val_score(svm, X_credit, y_credit, cv=kfold)\n",
    "    resultados_svm.append(scores.mean())"
   ]
  },
  {
   "cell_type": "code",
   "execution_count": 8,
   "metadata": {},
   "outputs": [
    {
     "name": "stdout",
     "output_type": "stream",
     "text": [
      "0.9835,0.9854999999999998,0.984,0.983,0.9824999999999999,0.983,0.984,0.982,0.982,0.9795,0.9809999999999999,0.9814999999999999,0.9809999999999999,0.9804999999999999,0.9800000000000001,0.984,0.982,0.9845,0.9855,0.9809999999999999,0.9865,0.9825000000000002,0.9855,0.9834999999999999,0.9855,0.986,0.9814999999999999,0.9844999999999999,0.9824999999999999,0.983\n"
     ]
    }
   ],
   "source": [
    "print(*resultados_random_forest,sep=',')"
   ]
  },
  {
   "cell_type": "markdown",
   "metadata": {},
   "source": [
    "## Análise de Resultados"
   ]
  },
  {
   "cell_type": "code",
   "execution_count": 22,
   "metadata": {},
   "outputs": [
    {
     "data": {
      "text/html": [
       "<div>\n",
       "<style scoped>\n",
       "    .dataframe tbody tr th:only-of-type {\n",
       "        vertical-align: middle;\n",
       "    }\n",
       "\n",
       "    .dataframe tbody tr th {\n",
       "        vertical-align: top;\n",
       "    }\n",
       "\n",
       "    .dataframe thead th {\n",
       "        text-align: right;\n",
       "    }\n",
       "</style>\n",
       "<table border=\"1\" class=\"dataframe\">\n",
       "  <thead>\n",
       "    <tr style=\"text-align: right;\">\n",
       "      <th></th>\n",
       "      <th>Arvore</th>\n",
       "      <th>Random Forest</th>\n",
       "      <th>KNN</th>\n",
       "      <th>SVM</th>\n",
       "    </tr>\n",
       "  </thead>\n",
       "  <tbody>\n",
       "    <tr>\n",
       "      <th>0</th>\n",
       "      <td>0.9850</td>\n",
       "      <td>0.9835</td>\n",
       "      <td>0.9830</td>\n",
       "      <td>0.9835</td>\n",
       "    </tr>\n",
       "    <tr>\n",
       "      <th>1</th>\n",
       "      <td>0.9845</td>\n",
       "      <td>0.9855</td>\n",
       "      <td>0.9830</td>\n",
       "      <td>0.9835</td>\n",
       "    </tr>\n",
       "    <tr>\n",
       "      <th>2</th>\n",
       "      <td>0.9850</td>\n",
       "      <td>0.9840</td>\n",
       "      <td>0.9825</td>\n",
       "      <td>0.9835</td>\n",
       "    </tr>\n",
       "    <tr>\n",
       "      <th>3</th>\n",
       "      <td>0.9845</td>\n",
       "      <td>0.9830</td>\n",
       "      <td>0.9860</td>\n",
       "      <td>0.9835</td>\n",
       "    </tr>\n",
       "    <tr>\n",
       "      <th>4</th>\n",
       "      <td>0.9845</td>\n",
       "      <td>0.9825</td>\n",
       "      <td>0.9830</td>\n",
       "      <td>0.9835</td>\n",
       "    </tr>\n",
       "  </tbody>\n",
       "</table>\n",
       "</div>"
      ],
      "text/plain": [
       "   Arvore  Random Forest     KNN     SVM\n",
       "0  0.9850         0.9835  0.9830  0.9835\n",
       "1  0.9845         0.9855  0.9830  0.9835\n",
       "2  0.9850         0.9840  0.9825  0.9835\n",
       "3  0.9845         0.9830  0.9860  0.9835\n",
       "4  0.9845         0.9825  0.9830  0.9835"
      ]
     },
     "metadata": {},
     "output_type": "display_data"
    }
   ],
   "source": [
    "results = pd.DataFrame({'Arvore':resultados_arvore,\n",
    "                        'Random Forest':resultados_random_forest,\n",
    "                        'KNN':resultados_knn,\n",
    "                        'SVM':resultados_svm})\n",
    "display(results.head(5))"
   ]
  },
  {
   "cell_type": "code",
   "execution_count": 23,
   "metadata": {},
   "outputs": [
    {
     "data": {
      "text/html": [
       "<div>\n",
       "<style scoped>\n",
       "    .dataframe tbody tr th:only-of-type {\n",
       "        vertical-align: middle;\n",
       "    }\n",
       "\n",
       "    .dataframe tbody tr th {\n",
       "        vertical-align: top;\n",
       "    }\n",
       "\n",
       "    .dataframe thead th {\n",
       "        text-align: right;\n",
       "    }\n",
       "</style>\n",
       "<table border=\"1\" class=\"dataframe\">\n",
       "  <thead>\n",
       "    <tr style=\"text-align: right;\">\n",
       "      <th></th>\n",
       "      <th>Arvore</th>\n",
       "      <th>Random Forest</th>\n",
       "      <th>KNN</th>\n",
       "      <th>SVM</th>\n",
       "    </tr>\n",
       "  </thead>\n",
       "  <tbody>\n",
       "    <tr>\n",
       "      <th>count</th>\n",
       "      <td>30.000000</td>\n",
       "      <td>30.000000</td>\n",
       "      <td>30.000000</td>\n",
       "      <td>3.000000e+01</td>\n",
       "    </tr>\n",
       "    <tr>\n",
       "      <th>mean</th>\n",
       "      <td>0.984700</td>\n",
       "      <td>0.983033</td>\n",
       "      <td>0.983000</td>\n",
       "      <td>9.835000e-01</td>\n",
       "    </tr>\n",
       "    <tr>\n",
       "      <th>std</th>\n",
       "      <td>0.000750</td>\n",
       "      <td>0.001875</td>\n",
       "      <td>0.001819</td>\n",
       "      <td>2.258405e-16</td>\n",
       "    </tr>\n",
       "    <tr>\n",
       "      <th>min</th>\n",
       "      <td>0.983500</td>\n",
       "      <td>0.979500</td>\n",
       "      <td>0.978500</td>\n",
       "      <td>9.835000e-01</td>\n",
       "    </tr>\n",
       "    <tr>\n",
       "      <th>25%</th>\n",
       "      <td>0.984125</td>\n",
       "      <td>0.981625</td>\n",
       "      <td>0.982000</td>\n",
       "      <td>9.835000e-01</td>\n",
       "    </tr>\n",
       "    <tr>\n",
       "      <th>50%</th>\n",
       "      <td>0.984500</td>\n",
       "      <td>0.983000</td>\n",
       "      <td>0.983000</td>\n",
       "      <td>9.835000e-01</td>\n",
       "    </tr>\n",
       "    <tr>\n",
       "      <th>75%</th>\n",
       "      <td>0.985000</td>\n",
       "      <td>0.984375</td>\n",
       "      <td>0.984375</td>\n",
       "      <td>9.835000e-01</td>\n",
       "    </tr>\n",
       "    <tr>\n",
       "      <th>max</th>\n",
       "      <td>0.986000</td>\n",
       "      <td>0.986500</td>\n",
       "      <td>0.986000</td>\n",
       "      <td>9.835000e-01</td>\n",
       "    </tr>\n",
       "  </tbody>\n",
       "</table>\n",
       "</div>"
      ],
      "text/plain": [
       "          Arvore  Random Forest        KNN           SVM\n",
       "count  30.000000      30.000000  30.000000  3.000000e+01\n",
       "mean    0.984700       0.983033   0.983000  9.835000e-01\n",
       "std     0.000750       0.001875   0.001819  2.258405e-16\n",
       "min     0.983500       0.979500   0.978500  9.835000e-01\n",
       "25%     0.984125       0.981625   0.982000  9.835000e-01\n",
       "50%     0.984500       0.983000   0.983000  9.835000e-01\n",
       "75%     0.985000       0.984375   0.984375  9.835000e-01\n",
       "max     0.986000       0.986500   0.986000  9.835000e-01"
      ]
     },
     "metadata": {},
     "output_type": "display_data"
    },
    {
     "data": {
      "text/plain": [
       "Arvore           0.0761\n",
       "Random Forest    0.1907\n",
       "KNN              0.1851\n",
       "SVM              0.0000\n",
       "dtype: float64"
      ]
     },
     "metadata": {},
     "output_type": "display_data"
    }
   ],
   "source": [
    "display(results.describe())\n",
    "display(round(results.std() / results.mean() * 100, 4)) # Coeficiente de Variação"
   ]
  },
  {
   "cell_type": "markdown",
   "metadata": {},
   "source": [
    "## Teste de Normalidade\n",
    "Teste de Shapiro"
   ]
  },
  {
   "cell_type": "code",
   "execution_count": 49,
   "metadata": {},
   "outputs": [
    {
     "data": {
      "text/plain": [
       "ShapiroResult(statistic=0.936575320313539, pvalue=0.07357804675176188)"
      ]
     },
     "metadata": {},
     "output_type": "display_data"
    },
    {
     "data": {
      "text/plain": [
       "ShapiroResult(statistic=0.97272197089689, pvalue=0.6160136874472874)"
      ]
     },
     "metadata": {},
     "output_type": "display_data"
    },
    {
     "data": {
      "text/plain": [
       "ShapiroResult(statistic=0.965274232903614, pvalue=0.41913020177087845)"
      ]
     },
     "metadata": {},
     "output_type": "display_data"
    },
    {
     "data": {
      "text/plain": [
       "ShapiroResult(statistic=1.0, pvalue=1.0)"
      ]
     },
     "metadata": {},
     "output_type": "display_data"
    }
   ],
   "source": [
    "from scipy.stats import shapiro\n",
    "\n",
    "alpha = 0.05 # Confiabilidade do Teste\n",
    "display(shapiro(resultados_arvore), shapiro(resultados_random_forest), shapiro(resultados_knn), shapiro(resultados_svm));"
   ]
  },
  {
   "cell_type": "code",
   "execution_count": 25,
   "metadata": {},
   "outputs": [
    {
     "data": {
      "image/png": "[encoded data removed]",
      "text/plain": [
       "<Figure size 500x500 with 1 Axes>"
      ]
     },
     "metadata": {},
     "output_type": "display_data"
    },
    {
     "data": {
      "image/png": "[encoded data removed]",
      "text/plain": [
       "<Figure size 500x500 with 1 Axes>"
      ]
     },
     "metadata": {},
     "output_type": "display_data"
    },
    {
     "data": {
      "image/png": "[encoded data removed]",
      "text/plain": [
       "<Figure size 500x500 with 1 Axes>"
      ]
     },
     "metadata": {},
     "output_type": "display_data"
    },
    {
     "data": {
      "image/png": "[encoded data removed]",
      "text/plain": [
       "<Figure size 500x500 with 1 Axes>"
      ]
     },
     "metadata": {},
     "output_type": "display_data"
    }
   ],
   "source": [
    "import seaborn as sns\n",
    "\n",
    "sns.displot(resultados_arvore, kind='kde');\n",
    "sns.displot(resultados_random_forest, kind='kde');\n",
    "sns.displot(resultados_knn, kind='kde');\n",
    "sns.displot(resultados_svm, kind='kde');"
   ]
  },
  {
   "cell_type": "markdown",
   "metadata": {},
   "source": [
    "## ANOVA e Tukey"
   ]
  },
  {
   "cell_type": "code",
   "execution_count": 30,
   "metadata": {},
   "outputs": [
    {
     "name": "stdout",
     "output_type": "stream",
     "text": [
      "p = 4.848132932476204e-06\n",
      "Hipótese Nula Rejeitada. Dados são Diferentes\n"
     ]
    }
   ],
   "source": [
    "from scipy.stats import f_oneway\n",
    "\n",
    "_, p = f_oneway(resultados_arvore, resultados_random_forest, resultados_knn, resultados_svm)\n",
    "print('p =', p)\n",
    "\n",
    "alpha=0.05\n",
    "if p <= alpha:\n",
    "    print('Hipótese Nula Rejeitada. Dados são Diferentes')\n",
    "else:\n",
    "    print('Hipótese Alternativa Rejeitada. Resultados são Iguais')"
   ]
  },
  {
   "cell_type": "markdown",
   "metadata": {},
   "source": [
    "Como são diferentes, usamos Tukey para identificar o melhor."
   ]
  },
  {
   "cell_type": "code",
   "execution_count": 37,
   "metadata": {},
   "outputs": [],
   "source": [
    "list_argoritmo = []\n",
    "for name in ['arvore','random_forest','knn','svm']:\n",
    "    for i in range(30):\n",
    "        list_argoritmo.append(name)"
   ]
  },
  {
   "cell_type": "code",
   "execution_count": 40,
   "metadata": {},
   "outputs": [
    {
     "data": {
      "text/html": [
       "<div>\n",
       "<style scoped>\n",
       "    .dataframe tbody tr th:only-of-type {\n",
       "        vertical-align: middle;\n",
       "    }\n",
       "\n",
       "    .dataframe tbody tr th {\n",
       "        vertical-align: top;\n",
       "    }\n",
       "\n",
       "    .dataframe thead th {\n",
       "        text-align: right;\n",
       "    }\n",
       "</style>\n",
       "<table border=\"1\" class=\"dataframe\">\n",
       "  <thead>\n",
       "    <tr style=\"text-align: right;\">\n",
       "      <th></th>\n",
       "      <th>accuracy</th>\n",
       "      <th>algoritmo</th>\n",
       "    </tr>\n",
       "  </thead>\n",
       "  <tbody>\n",
       "    <tr>\n",
       "      <th>0</th>\n",
       "      <td>0.9850</td>\n",
       "      <td>arvore</td>\n",
       "    </tr>\n",
       "    <tr>\n",
       "      <th>1</th>\n",
       "      <td>0.9845</td>\n",
       "      <td>arvore</td>\n",
       "    </tr>\n",
       "    <tr>\n",
       "      <th>2</th>\n",
       "      <td>0.9850</td>\n",
       "      <td>arvore</td>\n",
       "    </tr>\n",
       "    <tr>\n",
       "      <th>3</th>\n",
       "      <td>0.9845</td>\n",
       "      <td>arvore</td>\n",
       "    </tr>\n",
       "    <tr>\n",
       "      <th>4</th>\n",
       "      <td>0.9845</td>\n",
       "      <td>arvore</td>\n",
       "    </tr>\n",
       "  </tbody>\n",
       "</table>\n",
       "</div>"
      ],
      "text/plain": [
       "   accuracy algoritmo\n",
       "0    0.9850    arvore\n",
       "1    0.9845    arvore\n",
       "2    0.9850    arvore\n",
       "3    0.9845    arvore\n",
       "4    0.9845    arvore"
      ]
     },
     "metadata": {},
     "output_type": "display_data"
    },
    {
     "data": {
      "text/html": [
       "<div>\n",
       "<style scoped>\n",
       "    .dataframe tbody tr th:only-of-type {\n",
       "        vertical-align: middle;\n",
       "    }\n",
       "\n",
       "    .dataframe tbody tr th {\n",
       "        vertical-align: top;\n",
       "    }\n",
       "\n",
       "    .dataframe thead th {\n",
       "        text-align: right;\n",
       "    }\n",
       "</style>\n",
       "<table border=\"1\" class=\"dataframe\">\n",
       "  <thead>\n",
       "    <tr style=\"text-align: right;\">\n",
       "      <th></th>\n",
       "      <th>accuracy</th>\n",
       "      <th>algoritmo</th>\n",
       "    </tr>\n",
       "  </thead>\n",
       "  <tbody>\n",
       "    <tr>\n",
       "      <th>115</th>\n",
       "      <td>0.9835</td>\n",
       "      <td>svm</td>\n",
       "    </tr>\n",
       "    <tr>\n",
       "      <th>116</th>\n",
       "      <td>0.9835</td>\n",
       "      <td>svm</td>\n",
       "    </tr>\n",
       "    <tr>\n",
       "      <th>117</th>\n",
       "      <td>0.9835</td>\n",
       "      <td>svm</td>\n",
       "    </tr>\n",
       "    <tr>\n",
       "      <th>118</th>\n",
       "      <td>0.9835</td>\n",
       "      <td>svm</td>\n",
       "    </tr>\n",
       "    <tr>\n",
       "      <th>119</th>\n",
       "      <td>0.9835</td>\n",
       "      <td>svm</td>\n",
       "    </tr>\n",
       "  </tbody>\n",
       "</table>\n",
       "</div>"
      ],
      "text/plain": [
       "     accuracy algoritmo\n",
       "115    0.9835       svm\n",
       "116    0.9835       svm\n",
       "117    0.9835       svm\n",
       "118    0.9835       svm\n",
       "119    0.9835       svm"
      ]
     },
     "metadata": {},
     "output_type": "display_data"
    }
   ],
   "source": [
    "resultados_algoritmos = {'accuracy':np.concatenate([resultados_arvore, resultados_random_forest, resultados_knn, resultados_svm]),\n",
    "                         'algoritmo':list_argoritmo}\n",
    "resultados_df = pd.DataFrame(resultados_algoritmos)\n",
    "display(resultados_df.head(5),resultados_df.tail(5))"
   ]
  },
  {
   "cell_type": "code",
   "execution_count": 43,
   "metadata": {},
   "outputs": [
    {
     "name": "stdout",
     "output_type": "stream",
     "text": [
      "       Multiple Comparison of Means - Tukey HSD, FWER=0.05        \n",
      "==================================================================\n",
      "    group1        group2    meandiff p-adj   lower   upper  reject\n",
      "------------------------------------------------------------------\n",
      "       arvore           knn  -0.0017    0.0 -0.0026 -0.0008   True\n",
      "       arvore random_forest  -0.0017    0.0 -0.0026 -0.0008   True\n",
      "       arvore           svm  -0.0012 0.0047 -0.0021 -0.0003   True\n",
      "          knn random_forest      0.0 0.9997 -0.0009  0.0009  False\n",
      "          knn           svm   0.0005 0.4865 -0.0004  0.0014  False\n",
      "random_forest           svm   0.0005 0.5459 -0.0004  0.0014  False\n",
      "------------------------------------------------------------------\n"
     ]
    }
   ],
   "source": [
    "from statsmodels.stats.multicomp import MultiComparison\n",
    "\n",
    "compare_algoritmos = MultiComparison(resultados_df['accuracy'],resultados_df['algoritmo'])\n",
    "teste_estatistico = compare_algoritmos.tukeyhsd()\n",
    "print(teste_estatistico)"
   ]
  },
  {
   "cell_type": "code",
   "execution_count": 46,
   "metadata": {},
   "outputs": [
    {
     "data": {
      "text/plain": [
       "Arvore           0.984700\n",
       "Random Forest    0.983033\n",
       "KNN              0.983000\n",
       "SVM              0.983500\n",
       "dtype: float64"
      ]
     },
     "metadata": {},
     "output_type": "display_data"
    },
    {
     "name": "stdout",
     "output_type": "stream",
     "text": [
      "Vemos que só temos True para Arvore em Tukey já que ele é estatisticamente superior aos outros (diferentemente dos outros que são estatisticamente equivalentes)\n"
     ]
    },
    {
     "data": {
      "image/png": "[encoded data removed]",
      "text/plain": [
       "<Figure size 1000x600 with 1 Axes>"
      ]
     },
     "metadata": {},
     "output_type": "display_data"
    }
   ],
   "source": [
    "display(results.mean())\n",
    "print('Vemos que só temos True para Arvore em Tukey já que ele é estatisticamente superior aos outros (diferentemente dos outros que são estatisticamente equivalentes)')\n",
    "teste_estatistico.plot_simultaneous();"
   ]
  },
  {
   "cell_type": "markdown",
   "metadata": {},
   "source": [
    "## Salvar um Classificador Já Treinado"
   ]
  },
  {
   "cell_type": "code",
   "execution_count": 11,
   "metadata": {},
   "outputs": [],
   "source": [
    "classificador_arvore = DecisionTreeClassifier(criterion='entropy', min_samples_leaf=1, min_samples_split=5, splitter='best');\n",
    "classificador_arvore.fit(X_credit, y_credit);\n",
    "with open('classificador_arvore.sav',mode='wb') as f:\n",
    "    pickle.dump(classificador_arvore, f)\n",
    "\n",
    "classificador_svm = SVC(C=1.5, kernel='rbf', tol=0.0001, probability=True)\n",
    "classificador_svm.fit(X_credit, y_credit);\n",
    "with open('classificador_svm.sav',mode='wb') as f:\n",
    "    pickle.dump(classificador_svm, f)"
   ]
  }
 ],
 "metadata": {
  "kernelspec": {
   "display_name": "Python 3",
   "language": "python",
   "name": "python3"
  },
  "language_info": {
   "codemirror_mode": {
    "name": "ipython",
    "version": 3
   },
   "file_extension": ".py",
   "mimetype": "text/x-python",
   "name": "python",
   "nbconvert_exporter": "python",
   "pygments_lexer": "ipython3",
   "version": "3.12.0"
  }
 },
 "nbformat": 4,
 "nbformat_minor": 2
}
