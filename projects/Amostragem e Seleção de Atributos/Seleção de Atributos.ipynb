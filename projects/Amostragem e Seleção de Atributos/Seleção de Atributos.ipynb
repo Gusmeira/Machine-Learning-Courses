{
 "cells": [
  {
   "cell_type": "markdown",
   "metadata": {},
   "source": [
    "# **Seleçõa de Atributos**"
   ]
  },
  {
   "cell_type": "markdown",
   "metadata": {},
   "source": [
    "Essas técnicas consistem em selecionar os melhores atributos em uma base de dados para melhorar a eficiência e velocidade de processamento do aprendizado de máquina."
   ]
  },
  {
   "cell_type": "code",
   "execution_count": 1,
   "metadata": {},
   "outputs": [],
   "source": [
    "import pandas as pd\n",
    "import numpy as np"
   ]
  },
  {
   "cell_type": "code",
   "execution_count": 9,
   "metadata": {},
   "outputs": [],
   "source": [
    "base_census = pd.read_csv('/Users/gustavomeira/Documents/Python/Estudo_ML/projects/Amostragem e Seleção de Atributos/census.csv')\n",
    "\n",
    "colunas = base_census.columns[:-1]\n",
    "\n",
    "X_census = base_census.iloc[:,0:14].values\n",
    "Y_census = base_census.iloc[:,14].values"
   ]
  },
  {
   "cell_type": "code",
   "execution_count": 10,
   "metadata": {},
   "outputs": [],
   "source": [
    "from sklearn.preprocessing import LabelEncoder\n",
    "\n",
    "label_encoder_workclass = LabelEncoder()\n",
    "label_encoder_education = LabelEncoder()\n",
    "label_encoder_marital = LabelEncoder()\n",
    "label_encoder_occupation = LabelEncoder()\n",
    "label_encoder_relationship = LabelEncoder()\n",
    "label_encoder_race = LabelEncoder()\n",
    "label_encoder_sex = LabelEncoder()\n",
    "label_encoder_country = LabelEncoder()\n",
    "\n",
    "X_census[:,1] = label_encoder_workclass.fit_transform(X_census[:,1])\n",
    "X_census[:,3] = label_encoder_education.fit_transform(X_census[:,3])\n",
    "X_census[:,5] = label_encoder_marital.fit_transform(X_census[:,5])\n",
    "X_census[:,6] = label_encoder_occupation.fit_transform(X_census[:,6])\n",
    "X_census[:,7] = label_encoder_relationship.fit_transform(X_census[:,7])\n",
    "X_census[:,8] = label_encoder_race.fit_transform(X_census[:,8])\n",
    "X_census[:,9] = label_encoder_sex.fit_transform(X_census[:,9])\n",
    "X_census[:,13] = label_encoder_country.fit_transform(X_census[:,13])"
   ]
  },
  {
   "cell_type": "code",
   "execution_count": 11,
   "metadata": {},
   "outputs": [
    {
     "data": {
      "text/plain": [
       "array([[0.30136986, 0.875     , 0.0443019 , ..., 0.        , 0.39795918,\n",
       "        0.95121951],\n",
       "       [0.45205479, 0.75      , 0.0482376 , ..., 0.        , 0.12244898,\n",
       "        0.95121951],\n",
       "       [0.28767123, 0.5       , 0.13811345, ..., 0.        , 0.39795918,\n",
       "        0.95121951],\n",
       "       ...,\n",
       "       [0.56164384, 0.5       , 0.09482688, ..., 0.        , 0.39795918,\n",
       "        0.95121951],\n",
       "       [0.06849315, 0.5       , 0.12849934, ..., 0.        , 0.19387755,\n",
       "        0.95121951],\n",
       "       [0.47945205, 0.625     , 0.18720338, ..., 0.        , 0.39795918,\n",
       "        0.95121951]])"
      ]
     },
     "metadata": {},
     "output_type": "display_data"
    }
   ],
   "source": [
    "from sklearn.preprocessing import MinMaxScaler\n",
    "\n",
    "scaler = MinMaxScaler()\n",
    "X_census_scalar = scaler.fit_transform(X_census)\n",
    "display(X_census_scalar)"
   ]
  },
  {
   "cell_type": "markdown",
   "metadata": {},
   "source": [
    "## Low Variance"
   ]
  },
  {
   "cell_type": "markdown",
   "metadata": {},
   "source": [
    "Ele seleciona os melhores atributos com base nos dados com maiores valores de variância (afastamento em relação à média). Esta técnica é usada com bancos de dados com inúmeros atributos, inclusive com imagens para selecionar pixels em específico, melhando o accuracy."
   ]
  },
  {
   "cell_type": "code",
   "execution_count": 14,
   "metadata": {},
   "outputs": [
    {
     "name": "stdout",
     "output_type": "stream",
     "text": [
      "0.034913808595952486\n",
      "0.03312115190663569\n",
      "0.005138537590667898\n",
      "0.06657103564450892\n",
      "0.029416385024073417\n",
      "0.06301761677301636\n",
      "0.09123816653931152\n",
      "0.10326534394406342\n",
      "0.04502805169292987\n",
      "0.22136950173699113\n",
      "0.00545419549240862\n",
      "0.008557270623428908\n",
      "0.015874043397822807\n",
      "0.03641266114220053\n"
     ]
    }
   ],
   "source": [
    "for i in range(X_census_scalar.shape[1]):\n",
    "    print(X_census_scalar[:,i].var())"
   ]
  },
  {
   "cell_type": "code",
   "execution_count": 21,
   "metadata": {},
   "outputs": [
    {
     "data": {
      "text/plain": [
       "array([0.03491381, 0.03312115, 0.00513854, 0.06657104, 0.02941639,\n",
       "       0.06301762, 0.09123817, 0.10326534, 0.04502805, 0.2213695 ,\n",
       "       0.0054542 , 0.00855727, 0.01587404, 0.03641266])"
      ]
     },
     "metadata": {},
     "output_type": "display_data"
    },
    {
     "data": {
      "text/plain": [
       "(array([3, 5, 6, 7, 9]),)"
      ]
     },
     "metadata": {},
     "output_type": "display_data"
    },
    {
     "data": {
      "text/plain": [
       "Index(['education', 'marital-status', 'occupation', 'relationship', 'sex'], dtype='object')"
      ]
     },
     "metadata": {},
     "output_type": "display_data"
    }
   ],
   "source": [
    "from sklearn.feature_selection import VarianceThreshold\n",
    "\n",
    "selecao = VarianceThreshold(threshold=0.05)\n",
    "X_census_variancia = selecao.fit_transform(X_census_scalar)\n",
    "display(selecao.variances_)\n",
    "indices = np.where(selecao.variances_ > 0.05)\n",
    "display(indices)\n",
    "display(colunas[indices])"
   ]
  },
  {
   "cell_type": "markdown",
   "metadata": {},
   "source": [
    "## Extras Trees"
   ]
  },
  {
   "cell_type": "markdown",
   "metadata": {},
   "source": [
    "Este algoritmo é um classificador parecido com a Random Forest. Neste algoritmo, realizamos o treinamento do modelo da forma convencional e escolhemos os atributos mais importantes a partir do resultado. As importânicas somam 100%."
   ]
  },
  {
   "cell_type": "code",
   "execution_count": 22,
   "metadata": {},
   "outputs": [
    {
     "data": {
      "text/plain": [
       "array([0.15143449, 0.04442391, 0.16442471, 0.03661957, 0.08976834,\n",
       "       0.07031346, 0.0758667 , 0.09958113, 0.01474864, 0.02587463,\n",
       "       0.0888674 , 0.02747311, 0.09315634, 0.01744757])"
      ]
     },
     "metadata": {},
     "output_type": "display_data"
    }
   ],
   "source": [
    "from sklearn.ensemble import ExtraTreesClassifier\n",
    "\n",
    "selecao = ExtraTreesClassifier()\n",
    "selecao.fit(X_census_scalar, Y_census)\n",
    "\n",
    "importancias = selecao.feature_importances_\n",
    "display(importancias)"
   ]
  },
  {
   "cell_type": "code",
   "execution_count": 23,
   "metadata": {},
   "outputs": [
    {
     "data": {
      "text/plain": [
       "Index(['age', 'workclass', 'final-weight', 'education', 'education-num',\n",
       "       'marital-status', 'occupation', 'relationship', 'capital-gain',\n",
       "       'hour-per-week'],\n",
       "      dtype='object')"
      ]
     },
     "metadata": {},
     "output_type": "display_data"
    }
   ],
   "source": [
    "indices = []\n",
    "for i in range(len(importancias)):\n",
    "    if importancias[i] >= 0.029:\n",
    "        indices.append(i)\n",
    "\n",
    "display(colunas[indices])"
   ]
  }
 ],
 "metadata": {
  "kernelspec": {
   "display_name": "Python 3",
   "language": "python",
   "name": "python3"
  },
  "language_info": {
   "codemirror_mode": {
    "name": "ipython",
    "version": 3
   },
   "file_extension": ".py",
   "mimetype": "text/x-python",
   "name": "python",
   "nbconvert_exporter": "python",
   "pygments_lexer": "ipython3",
   "version": "3.12.0"
  }
 },
 "nbformat": 4,
 "nbformat_minor": 2
}
