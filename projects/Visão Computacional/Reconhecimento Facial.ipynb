{
 "cells": [
  {
   "cell_type": "markdown",
   "metadata": {},
   "source": [
    "# **LBPH**"
   ]
  },
  {
   "cell_type": "markdown",
   "metadata": {},
   "source": [
    "O **LBPH** (Local Binary Patterns Histograms) opera pela classificação dos pixels em binário de acordo com o pixel que está no centro da sua disposição. Logo após há a criação de um histograma que operará no reconhecimento da imagem."
   ]
  },
  {
   "cell_type": "markdown",
   "metadata": {},
   "source": [
    "## Reconhecimento Facial"
   ]
  },
  {
   "cell_type": "code",
   "execution_count": 12,
   "metadata": {},
   "outputs": [],
   "source": [
    "from PIL import Image\n",
    "import numpy as np\n",
    "import os\n",
    "import cv2"
   ]
  },
  {
   "cell_type": "code",
   "execution_count": 13,
   "metadata": {},
   "outputs": [],
   "source": [
    "def dados_imagem():\n",
    "    caminhos = [os.path.join('/Users/gustavomeira/Documents/Python/Estudo_ML/projects/Visão Computacional/train',f) \n",
    "                for f in os.listdir('/Users/gustavomeira/Documents/Python/Estudo_ML/projects/Visão Computacional/train')]\n",
    "    faces = []\n",
    "    ids = []\n",
    "    for caminho in caminhos:\n",
    "        imagem = Image.open(caminho).convert('L')\n",
    "        imagem_np = np.array(imagem, 'uint8')\n",
    "        id = int(os.path.split(caminho)[1].split('.')[0].replace('subject',''))\n",
    "        ids.append(id)\n",
    "        faces.append(imagem_np)\n",
    "    return np.array(ids), faces\n",
    "\n",
    "ids, faces = dados_imagem()"
   ]
  },
  {
   "cell_type": "code",
   "execution_count": 17,
   "metadata": {},
   "outputs": [
    {
     "ename": "AttributeError",
     "evalue": "module 'cv2' has no attribute 'createAffineTransformer'",
     "output_type": "error",
     "traceback": [
      "\u001b[0;31m---------------------------------------------------------------------------\u001b[0m",
      "\u001b[0;31mAttributeError\u001b[0m                            Traceback (most recent call last)",
      "Cell \u001b[0;32mIn[17], line 1\u001b[0m\n\u001b[0;32m----> 1\u001b[0m lbph \u001b[38;5;241m=\u001b[39m \u001b[43mcv2\u001b[49m\u001b[38;5;241;43m.\u001b[39;49m\u001b[43mcreateAffineTransformer\u001b[49m()\n\u001b[1;32m      2\u001b[0m lbph\u001b[38;5;241m.\u001b[39mtrain(faces,ids)\n\u001b[1;32m      3\u001b[0m lbph\u001b[38;5;241m.\u001b[39mwrite(\u001b[38;5;124m'\u001b[39m\u001b[38;5;124mclassificadorLBPH.yml\u001b[39m\u001b[38;5;124m'\u001b[39m)\n",
      "\u001b[0;31mAttributeError\u001b[0m: module 'cv2' has no attribute 'createAffineTransformer'"
     ]
    }
   ],
   "source": [
    "lbph = cv2.createAffineTransformer()\n",
    "lbph.train(faces,ids)\n",
    "lbph.write('classificadorLBPH.yml')"
   ]
  },
  {
   "cell_type": "code",
   "execution_count": 9,
   "metadata": {},
   "outputs": [
    {
     "name": "stdout",
     "output_type": "stream",
     "text": [
      "4.10.0\n",
      "O módulo cv2.face NÃO está disponível.\n"
     ]
    }
   ],
   "source": [
    "import cv2\n",
    "print(cv2.__version__)\n",
    "\n",
    "# Verifique se o módulo cv2.face está disponível\n",
    "if hasattr(cv2, 'face'):\n",
    "    print(\"O módulo cv2.face está disponível.\")\n",
    "else:\n",
    "    print(\"O módulo cv2.face NÃO está disponível.\")"
   ]
  }
 ],
 "metadata": {
  "kernelspec": {
   "display_name": "Python 3",
   "language": "python",
   "name": "python3"
  },
  "language_info": {
   "codemirror_mode": {
    "name": "ipython",
    "version": 3
   },
   "file_extension": ".py",
   "mimetype": "text/x-python",
   "name": "python",
   "nbconvert_exporter": "python",
   "pygments_lexer": "ipython3",
   "version": "3.12.0"
  }
 },
 "nbformat": 4,
 "nbformat_minor": 2
}
