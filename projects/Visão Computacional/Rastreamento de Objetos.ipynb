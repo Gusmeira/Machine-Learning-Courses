{
 "cells": [
  {
   "cell_type": "markdown",
   "metadata": {},
   "source": [
    "# **Rastramento de Objetos**"
   ]
  },
  {
   "cell_type": "markdown",
   "metadata": {},
   "source": [
    "Esses algoritmos são mais rápidos que os algoritmos de detecção, isso porque ele não começa \"do zero\", mas sim utiliza a informação anterior para rastrear a nova posição.<br>\n",
    "O algoritmo **CSRT** (Discriminantive Correlation Filter with Channel and Spatial Realibility) mapeia a imagem da esquerda par a direita com um patch de treinamento com a caixa delimitadora. Após isso, ele utiliza um HOG para extrair informação útil da imagem. Ele calcula, então, a probabilidade de objeto posterior após o teste aleatório de Markov, de forma que o patch de treinamento mascarado com o mapa final de confiabilidade e, por fim, ele fornece a imagem rastreada."
   ]
  },
  {
   "cell_type": "code",
   "execution_count": 1,
   "metadata": {},
   "outputs": [],
   "source": [
    "import cv2"
   ]
  },
  {
   "cell_type": "code",
   "execution_count": 2,
   "metadata": {},
   "outputs": [],
   "source": [
    "rastreador = cv2.TrackerCSRT_create()"
   ]
  },
  {
   "cell_type": "code",
   "execution_count": 3,
   "metadata": {},
   "outputs": [
    {
     "name": "stdout",
     "output_type": "stream",
     "text": [
      "True\n"
     ]
    }
   ],
   "source": [
    "video = cv2.VideoCapture('/Users/gustavomeira/Documents/Python/Estudo_ML/projects/Visão Computacional/rua.mp4')\n",
    "ok, frame = video.read()\n",
    "print(ok)"
   ]
  },
  {
   "cell_type": "code",
   "execution_count": 4,
   "metadata": {},
   "outputs": [
    {
     "name": "stdout",
     "output_type": "stream",
     "text": [
      "Select a ROI and then press SPACE or ENTER button!\n",
      "Cancel the selection process by pressing c button!\n"
     ]
    }
   ],
   "source": [
    "bbox = cv2.selectROI(frame)\n",
    "ok = rastreador.init(frame, bbox)"
   ]
  },
  {
   "cell_type": "code",
   "execution_count": 5,
   "metadata": {},
   "outputs": [],
   "source": [
    "while True:\n",
    "    ok, frame = video.read()\n",
    "    if not ok:\n",
    "        break\n",
    "\n",
    "    ok, bbox = rastreador.update(frame)\n",
    "    \n",
    "    if ok:\n",
    "        (x,y,w,h) = [int(v) for v in bbox]\n",
    "        cv2.rectangle(frame, (x,y), (x+w,y+h), (0,255,0), 2, 1)\n",
    "    else:\n",
    "        cv2.putText(frame, 'Falha no Rastreamento', (100,100),\n",
    "                    cv2.FONT_HERSHEY_SIMPLEX, .75, (0,0,255), 2)\n",
    "    \n",
    "    cv2.imshow('Rastreando', frame)\n",
    "    if cv2.waitKey(1) & 0XFF == 27:\n",
    "        break"
   ]
  }
 ],
 "metadata": {
  "kernelspec": {
   "display_name": "Python 3",
   "language": "python",
   "name": "python3"
  },
  "language_info": {
   "codemirror_mode": {
    "name": "ipython",
    "version": 3
   },
   "file_extension": ".py",
   "mimetype": "text/x-python",
   "name": "python",
   "nbconvert_exporter": "python",
   "pygments_lexer": "ipython3",
   "version": "3.12.0"
  }
 },
 "nbformat": 4,
 "nbformat_minor": 2
}
